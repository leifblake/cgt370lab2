{
  "nbformat": 4,
  "nbformat_minor": 0,
  "metadata": {
    "colab": {
      "provenance": [],
      "toc_visible": true,
      "mount_file_id": "1J2_EpeYJxdTw28um5UroUKaixhjydWiS",
      "authorship_tag": "ABX9TyOSUJP3lGV7SXPnOZjvIykG",
      "include_colab_link": true
    },
    "kernelspec": {
      "name": "python3",
      "display_name": "Python 3"
    },
    "language_info": {
      "name": "python"
    }
  },
  "cells": [
    {
      "cell_type": "markdown",
      "metadata": {
        "id": "view-in-github",
        "colab_type": "text"
      },
      "source": [
        "<a href=\"https://colab.research.google.com/github/leifblake/cgt370lab2/blob/main/Blake_Leif_Lab2_CGT370.ipynb\" target=\"_parent\"><img src=\"https://colab.research.google.com/assets/colab-badge.svg\" alt=\"Open In Colab\"/></a>"
      ]
    },
    {
      "cell_type": "markdown",
      "source": [
        "## Lab 2: Data Manipulation with Pandas:"
      ],
      "metadata": {
        "id": "kDk_1nLSOcEm"
      }
    },
    {
      "cell_type": "code",
      "source": [
        "import pandas as pd\n",
        "from google.colab import drive\n",
        "\n",
        "drive.mount('/content/drive')\n",
        "\n",
        "file_path = '/content/drive/My Drive/Motor_Vehicle_Collisions_-_Crashes_20250127.csv'\n",
        "\n",
        "df = pd.read_csv(file_path)\n"
      ],
      "metadata": {
        "id": "kxEqOqaYt5sK",
        "colab": {
          "base_uri": "https://localhost:8080/"
        },
        "outputId": "be49c54c-d7db-4c75-efab-3de0d3fad5e5"
      },
      "execution_count": null,
      "outputs": [
        {
          "output_type": "stream",
          "name": "stdout",
          "text": [
            "Drive already mounted at /content/drive; to attempt to forcibly remount, call drive.mount(\"/content/drive\", force_remount=True).\n"
          ]
        },
        {
          "output_type": "stream",
          "name": "stderr",
          "text": [
            "<ipython-input-3-fd7982f1c8be>:12: DtypeWarning: Columns (3) have mixed types. Specify dtype option on import or set low_memory=False.\n",
            "  df = pd.read_csv(file_path)\n"
          ]
        }
      ]
    },
    {
      "cell_type": "code",
      "source": [
        "# Display the first few rows of the dataset\n",
        "print(df.head())\n",
        "\n",
        "# Display information about the dataset\n",
        "print(df.info())\n",
        "\n",
        "# Display summary statistics\n",
        "print(df.describe())\n"
      ],
      "metadata": {
        "colab": {
          "base_uri": "https://localhost:8080/"
        },
        "id": "HXYBjAN8CPaK",
        "outputId": "6be4be5d-7a73-4012-f94b-f76a23f6014e"
      },
      "execution_count": null,
      "outputs": [
        {
          "output_type": "stream",
          "name": "stdout",
          "text": [
            "   CRASH DATE CRASH TIME   BOROUGH ZIP CODE   LATITUDE  LONGITUDE  \\\n",
            "0  09/11/2021       2:39       NaN      NaN        NaN        NaN   \n",
            "1  03/26/2022      11:45       NaN      NaN        NaN        NaN   \n",
            "2  06/29/2022       6:55       NaN      NaN        NaN        NaN   \n",
            "3  09/11/2021       9:35  BROOKLYN  11208.0  40.667202 -73.866500   \n",
            "4  12/14/2021       8:13  BROOKLYN  11233.0  40.683304 -73.917274   \n",
            "\n",
            "                  LOCATION           ON STREET NAME CROSS STREET NAME  \\\n",
            "0                      NaN    WHITESTONE EXPRESSWAY         20 AVENUE   \n",
            "1                      NaN  QUEENSBORO BRIDGE UPPER               NaN   \n",
            "2                      NaN       THROGS NECK BRIDGE               NaN   \n",
            "3    (40.667202, -73.8665)                      NaN               NaN   \n",
            "4  (40.683304, -73.917274)          SARATOGA AVENUE    DECATUR STREET   \n",
            "\n",
            "           OFF STREET NAME  ...  CONTRIBUTING FACTOR VEHICLE 2  \\\n",
            "0                      NaN  ...                    Unspecified   \n",
            "1                      NaN  ...                            NaN   \n",
            "2                      NaN  ...                    Unspecified   \n",
            "3  1211      LORING AVENUE  ...                            NaN   \n",
            "4                      NaN  ...                            NaN   \n",
            "\n",
            "   CONTRIBUTING FACTOR VEHICLE 3  CONTRIBUTING FACTOR VEHICLE 4  \\\n",
            "0                            NaN                            NaN   \n",
            "1                            NaN                            NaN   \n",
            "2                            NaN                            NaN   \n",
            "3                            NaN                            NaN   \n",
            "4                            NaN                            NaN   \n",
            "\n",
            "   CONTRIBUTING FACTOR VEHICLE 5  COLLISION_ID  VEHICLE TYPE CODE 1  \\\n",
            "0                            NaN       4455765                Sedan   \n",
            "1                            NaN       4513547                Sedan   \n",
            "2                            NaN       4541903                Sedan   \n",
            "3                            NaN       4456314                Sedan   \n",
            "4                            NaN       4486609                  NaN   \n",
            "\n",
            "   VEHICLE TYPE CODE 2  VEHICLE TYPE CODE 3 VEHICLE TYPE CODE 4  \\\n",
            "0                Sedan                  NaN                 NaN   \n",
            "1                  NaN                  NaN                 NaN   \n",
            "2        Pick-up Truck                  NaN                 NaN   \n",
            "3                  NaN                  NaN                 NaN   \n",
            "4                  NaN                  NaN                 NaN   \n",
            "\n",
            "  VEHICLE TYPE CODE 5  \n",
            "0                 NaN  \n",
            "1                 NaN  \n",
            "2                 NaN  \n",
            "3                 NaN  \n",
            "4                 NaN  \n",
            "\n",
            "[5 rows x 29 columns]\n",
            "<class 'pandas.core.frame.DataFrame'>\n",
            "RangeIndex: 2151168 entries, 0 to 2151167\n",
            "Data columns (total 29 columns):\n",
            " #   Column                         Dtype  \n",
            "---  ------                         -----  \n",
            " 0   CRASH DATE                     object \n",
            " 1   CRASH TIME                     object \n",
            " 2   BOROUGH                        object \n",
            " 3   ZIP CODE                       object \n",
            " 4   LATITUDE                       float64\n",
            " 5   LONGITUDE                      float64\n",
            " 6   LOCATION                       object \n",
            " 7   ON STREET NAME                 object \n",
            " 8   CROSS STREET NAME              object \n",
            " 9   OFF STREET NAME                object \n",
            " 10  NUMBER OF PERSONS INJURED      float64\n",
            " 11  NUMBER OF PERSONS KILLED       float64\n",
            " 12  NUMBER OF PEDESTRIANS INJURED  int64  \n",
            " 13  NUMBER OF PEDESTRIANS KILLED   int64  \n",
            " 14  NUMBER OF CYCLIST INJURED      int64  \n",
            " 15  NUMBER OF CYCLIST KILLED       int64  \n",
            " 16  NUMBER OF MOTORIST INJURED     int64  \n",
            " 17  NUMBER OF MOTORIST KILLED      int64  \n",
            " 18  CONTRIBUTING FACTOR VEHICLE 1  object \n",
            " 19  CONTRIBUTING FACTOR VEHICLE 2  object \n",
            " 20  CONTRIBUTING FACTOR VEHICLE 3  object \n",
            " 21  CONTRIBUTING FACTOR VEHICLE 4  object \n",
            " 22  CONTRIBUTING FACTOR VEHICLE 5  object \n",
            " 23  COLLISION_ID                   int64  \n",
            " 24  VEHICLE TYPE CODE 1            object \n",
            " 25  VEHICLE TYPE CODE 2            object \n",
            " 26  VEHICLE TYPE CODE 3            object \n",
            " 27  VEHICLE TYPE CODE 4            object \n",
            " 28  VEHICLE TYPE CODE 5            object \n",
            "dtypes: float64(4), int64(7), object(18)\n",
            "memory usage: 476.0+ MB\n",
            "None\n",
            "           LATITUDE     LONGITUDE  NUMBER OF PERSONS INJURED  \\\n",
            "count  1.911572e+06  1.911572e+06               2.151150e+06   \n",
            "mean   4.061878e+01 -7.373590e+01               3.199614e-01   \n",
            "std    2.068666e+00  3.873375e+00               7.083777e-01   \n",
            "min    0.000000e+00 -2.013600e+02               0.000000e+00   \n",
            "25%    4.066752e+01 -7.397469e+01               0.000000e+00   \n",
            "50%    4.072052e+01 -7.392705e+01               0.000000e+00   \n",
            "75%    4.076961e+01 -7.386673e+01               0.000000e+00   \n",
            "max    4.334444e+01  0.000000e+00               4.300000e+01   \n",
            "\n",
            "       NUMBER OF PERSONS KILLED  NUMBER OF PEDESTRIANS INJURED  \\\n",
            "count              2.151137e+06                   2.151168e+06   \n",
            "mean               1.544300e-03                   5.823813e-02   \n",
            "std                4.146681e-02                   2.474319e-01   \n",
            "min                0.000000e+00                   0.000000e+00   \n",
            "25%                0.000000e+00                   0.000000e+00   \n",
            "50%                0.000000e+00                   0.000000e+00   \n",
            "75%                0.000000e+00                   0.000000e+00   \n",
            "max                8.000000e+00                   2.700000e+01   \n",
            "\n",
            "       NUMBER OF PEDESTRIANS KILLED  NUMBER OF CYCLIST INJURED  \\\n",
            "count                  2.151168e+06               2.151168e+06   \n",
            "mean                   7.656306e-04               2.796667e-02   \n",
            "std                    2.822509e-02               1.670092e-01   \n",
            "min                    0.000000e+00               0.000000e+00   \n",
            "25%                    0.000000e+00               0.000000e+00   \n",
            "50%                    0.000000e+00               0.000000e+00   \n",
            "75%                    0.000000e+00               0.000000e+00   \n",
            "max                    6.000000e+00               4.000000e+00   \n",
            "\n",
            "       NUMBER OF CYCLIST KILLED  NUMBER OF MOTORIST INJURED  \\\n",
            "count              2.151168e+06                2.151168e+06   \n",
            "mean               1.199348e-04                2.295232e-01   \n",
            "std                1.099319e-02                6.695449e-01   \n",
            "min                0.000000e+00                0.000000e+00   \n",
            "25%                0.000000e+00                0.000000e+00   \n",
            "50%                0.000000e+00                0.000000e+00   \n",
            "75%                0.000000e+00                0.000000e+00   \n",
            "max                2.000000e+00                4.300000e+01   \n",
            "\n",
            "       NUMBER OF MOTORIST KILLED  COLLISION_ID  \n",
            "count               2.151168e+06  2.151168e+06  \n",
            "mean                6.303552e-04  3.215618e+06  \n",
            "std                 2.746892e-02  1.507193e+06  \n",
            "min                 0.000000e+00  2.200000e+01  \n",
            "25%                 0.000000e+00  3.173912e+06  \n",
            "50%                 0.000000e+00  3.711852e+06  \n",
            "75%                 0.000000e+00  4.249873e+06  \n",
            "max                 5.000000e+00  4.787900e+06  \n"
          ]
        }
      ]
    },
    {
      "cell_type": "code",
      "source": [
        "# Select the relevant columns\n",
        "borough_injured_df = df[['BOROUGH', 'NUMBER OF PERSONS INJURED']]\n",
        "\n",
        "print(borough_injured_df.head())"
      ],
      "metadata": {
        "colab": {
          "base_uri": "https://localhost:8080/"
        },
        "id": "vpQa0npwCbTp",
        "outputId": "56ca46ec-97c8-45ca-b127-2d4edac79d2f"
      },
      "execution_count": null,
      "outputs": [
        {
          "output_type": "stream",
          "name": "stdout",
          "text": [
            "    BOROUGH  NUMBER OF PERSONS INJURED\n",
            "0       NaN                        2.0\n",
            "1       NaN                        1.0\n",
            "2       NaN                        0.0\n",
            "3  BROOKLYN                        0.0\n",
            "4  BROOKLYN                        0.0\n"
          ]
        }
      ]
    },
    {
      "cell_type": "code",
      "source": [
        "# Filter rows where more than 2 people were injured\n",
        "filtered_df = df[df['NUMBER OF PERSONS INJURED'] > 2]\n",
        "\n",
        "# Select relevant columns (DATE and BOROUGH) and sort by NUMBER OF PERSONS INJURED\n",
        "result_df = filtered_df[['CRASH DATE', 'BOROUGH', 'NUMBER OF PERSONS INJURED']].sort_values(\n",
        "    by='NUMBER OF PERSONS INJURED', ascending=False\n",
        ")\n",
        "\n",
        "print(result_df.head())"
      ],
      "metadata": {
        "colab": {
          "base_uri": "https://localhost:8080/"
        },
        "id": "wVBI-qglCzrM",
        "outputId": "90c3efe4-a4f5-4570-9cad-eee320eaf40a"
      },
      "execution_count": null,
      "outputs": [
        {
          "output_type": "stream",
          "name": "stdout",
          "text": [
            "         CRASH DATE   BOROUGH  NUMBER OF PERSONS INJURED\n",
            "1693097  09/09/2013  BROOKLYN                       43.0\n",
            "137328   07/21/2022       NaN                       40.0\n",
            "2013419  04/07/2023    QUEENS                       34.0\n",
            "1364279  04/17/2015    QUEENS                       32.0\n",
            "796369   10/10/2017     BRONX                       31.0\n"
          ]
        }
      ]
    },
    {
      "cell_type": "code",
      "source": [],
      "metadata": {
        "id": "7DIe9M8QC509"
      },
      "execution_count": null,
      "outputs": []
    }
  ]
}